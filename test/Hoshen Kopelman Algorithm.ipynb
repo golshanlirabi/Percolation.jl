{
 "cells": [
  {
   "cell_type": "code",
   "execution_count": 1,
   "metadata": {
    "collapsed": false
   },
   "outputs": [
    {
     "data": {
      "text/plain": [
       "checkcluster_pickup (generic function with 1 method)"
      ]
     },
     "execution_count": 1,
     "metadata": {},
     "output_type": "execute_result"
    }
   ],
   "source": [
    "###############################\n",
    "# Hoshen Kopelman Algorithm\n",
    "###############################\n",
    "function unionHK(i, j, labels)\n",
    "    labels[findHK(maximum([i,j]), labels)] = findHK(minimum([i,j]), labels)\n",
    "    \n",
    "#     max = maximum([findHK(i, labels), findHK(j, labels)])\n",
    "#     min = minimum([findHK(i, labels), findHK(j, labels)])\n",
    "#     labels[max] = min\n",
    "end\n",
    "\n",
    "function findHK(x, labels)\n",
    "    y = x\n",
    "    while (labels[y] != y)\n",
    "        y = labels[y]\n",
    "    end\n",
    "\n",
    "    while (labels[x] != x) \n",
    "        z = labels[x]\n",
    "        labels[x] = y\n",
    "        x = z\n",
    "    end\n",
    "    \n",
    "    return y\n",
    "end\n",
    "\n",
    "function HK(occupied)\n",
    "    n_rows, n_columns = size(occupied)\n",
    "    labels = collect(1:n_rows * n_columns)\n",
    "    largest_label = 0\n",
    "    for i in 1:n_rows\n",
    "        for j in 1:n_columns\n",
    "            if occupied[i,j] == 1\n",
    "                if j == 1\n",
    "                    left = 0\n",
    "                else\n",
    "                    left = occupied[i,j-1]\n",
    "                end\n",
    "                \n",
    "                if i == 1\n",
    "                    above = 0\n",
    "                else\n",
    "                    above = occupied[i-1,j]\n",
    "                end\n",
    "                \n",
    "                if left == 0 && above == 0\n",
    "                    largest_label += 1\n",
    "                    occupied[i,j] = largest_label\n",
    "                elseif left != 0 && above == 0\n",
    "                    occupied[i,j] = findHK(left, labels)\n",
    "                elseif left == 0 && above != 0\n",
    "                    occupied[i,j] = findHK(above, labels)\n",
    "                else\n",
    "                    unionHK(left, above, labels)\n",
    "                    occupied[i,j] = findHK(left, labels)\n",
    "                end\n",
    "            end\n",
    "        end\n",
    "    end\n",
    "    return largest_label, labels\n",
    "end\n",
    "\n",
    "function HK_simd(occupied)\n",
    "    n_rows, n_columns = size(occupied)\n",
    "    labels = collect(1:n_rows * n_columns)\n",
    "    largest_label = 0\n",
    "    @simd for i in 1:n_rows\n",
    "        @simd for j in 1:n_columns\n",
    "            if occupied[i,j] == 1\n",
    "                if j == 1\n",
    "                    left = 0\n",
    "                else\n",
    "                    @inbounds left = occupied[i,j-1]\n",
    "                end\n",
    "                \n",
    "                if i == 1\n",
    "                    above = 0\n",
    "                else\n",
    "                    @inbounds above = occupied[i-1,j]\n",
    "                end\n",
    "                \n",
    "                if left == 0 && above == 0\n",
    "                    largest_label += 1\n",
    "                    @inbounds occupied[i,j] = largest_label\n",
    "                elseif left != 0 && above == 0\n",
    "                    @inbounds occupied[i,j] = findHK(left, labels)\n",
    "                elseif left == 0 && above != 0\n",
    "                    @inbounds occupied[i,j] = findHK(above, labels)\n",
    "                else\n",
    "                    unionHK(left, above, labels)\n",
    "                    @inbounds occupied[i,j] = findHK(left, labels)\n",
    "                end\n",
    "            end\n",
    "        end\n",
    "    end\n",
    "    return largest_label, labels\n",
    "end\n",
    "\n",
    "#########################\n",
    "# recursive function\n",
    "#########################\n",
    "function recursive(occupied)\n",
    "    (row, column) = size(occupied)\n",
    "    labelnum = 101\n",
    "    for i in 1:row, j in 1:column\n",
    "        if occupied[i,j] == 1\n",
    "            checkcluster(i, j, labelnum, occupied)\n",
    "            labelnum += 1\n",
    "        end\n",
    "    end\n",
    "    \n",
    "    return labelnum - 100\n",
    "end\n",
    "\n",
    "# square lattice nearest neighbor\n",
    "function checkcluster(i::Int, j::Int, labelnum::Int, occupied::Matrix{Int})\n",
    "    (row,  column) = size(occupied)\n",
    "    if occupied[i,j] == 1\n",
    "        occupied[i,j] = labelnum\n",
    "        if j < column; checkcluster(i, j+1, labelnum, occupied); end\n",
    "        if 1 < j; checkcluster(i, j-1, labelnum, occupied); end\n",
    "        if i < row; checkcluster(i+1, j, labelnum, occupied); end\n",
    "        if 1 < i; checkcluster(i-1, j, labelnum, occupied); end\n",
    "    end\n",
    "end\n",
    "\n",
    "\n",
    "# instead of recursive\n",
    "# pick up search list\n",
    "function pickup(occupied::Matrix{Int})\n",
    "    (row, column) = size(occupied)\n",
    "    labelnum = 101\n",
    "    for i in 1:row, j in 1:column\n",
    "        if occupied[i,j] == 1\n",
    "            searchlist = checkcluster_pickup(occupied, i,j, labelnum)\n",
    "            occupied[i,j] = labelnum\n",
    "\n",
    "            while searchlist != []\n",
    "                tmppos = pop!(searchlist)\n",
    "                searchlist =  [ searchlist; checkcluster_pickup(occupied, tmppos[1], tmppos[2], labelnum) ]\n",
    "                occupied[tmppos...] = labelnum\n",
    "            end\n",
    "\n",
    "            labelnum += 1\n",
    "        end\n",
    "    end\n",
    "end\n",
    "\n",
    "function checkcluster_pickup(occupied::Matrix{Int}, i::Int, j::Int, labelnum::Int)\n",
    "    (row, column) = size(occupied)\n",
    "    searchlist = Array{Array{Int64, 1}, 1}()\n",
    "\n",
    "    if occupied[i,j] == 1\n",
    "        if j < column && occupied[i, j+1] == 1; push!(searchlist, [i, j+1]); end\n",
    "        if 1 < j && occupied[i, j-1] == 1; push!(searchlist, [i, j-1]); end\n",
    "        if i < row && occupied[i+1, j] == 1; push!(searchlist, [i+1, j]); end\n",
    "        if 1 < i && occupied[i-1, j] == 1; push!(searchlist, [i-1, j]); end\n",
    "    end\n",
    "\n",
    "    return searchlist\n",
    "end"
   ]
  },
  {
   "cell_type": "code",
   "execution_count": 8,
   "metadata": {
    "collapsed": false
   },
   "outputs": [
    {
     "name": "stdout",
     "output_type": "stream",
     "text": [
      "  0.000018 seconds (21 allocations: 1.938 KB)\n",
      "  0.000011 seconds (21 allocations: 1.938 KB)\n",
      "  0.000003 seconds (4 allocations: 160 bytes)\n",
      "  0.000015 seconds (134 allocations: 9.781 KB)\n",
      "  0.000030 seconds (50 allocations: 1.563 KB)\n"
     ]
    }
   ],
   "source": [
    "occupied = [\n",
    " 0  1  1  0  0  0  1\n",
    " 1  0  0  0  0  1  0\n",
    " 0  1  1  0  1  0  1\n",
    " 0  1  1  1  0  0  0\n",
    " 1  0  1  0  0  1  1\n",
    " 0  1  0  0  1  1  1\n",
    " 1  1  1  1  1  1  0]\n",
    "HKA = occupied[:,:]; HKA_simd = occupied[:,:]; rec = occupied[:,:]; pick = occupied[:,:]\n",
    "@time max, label = HK(HKA)\n",
    "modHKA = HKA[:,:]\n",
    "@time max_simd, label_simd = HK_simd(HKA_simd)\n",
    "\n",
    "@time recursive(rec)\n",
    "@time pickup(pick)\n",
    "\n",
    "@time for i in 1:length(label)\n",
    "    x = i\n",
    "   while (label[x] != x)\n",
    "       x = label[x]\n",
    "   end\n",
    "   \n",
    "   label[i] = x\n",
    "end\n",
    "\n",
    "for i in 1:length(modHKA)\n",
    "   if modHKA[i] != 0\n",
    "       modHKA[i] = label[modHKA[i]]\n",
    "   end\n",
    "end\n",
    "rec .-= 100\n",
    "rec[rec .== -100] .= 0;\n",
    "pick .-= 100\n",
    "pick[pick .== -100] .= 0;"
   ]
  },
  {
   "cell_type": "code",
   "execution_count": 3,
   "metadata": {
    "collapsed": false
   },
   "outputs": [
    {
     "data": {
      "text/plain": [
       "7×7 Array{Int64,2}:\n",
       " 0  1  1  0  0  0  1\n",
       " 1  0  0  0  0  1  0\n",
       " 0  1  1  0  1  0  1\n",
       " 0  1  1  1  0  0  0\n",
       " 1  0  1  0  0  1  1\n",
       " 0  1  0  0  1  1  1\n",
       " 1  1  1  1  1  1  0"
      ]
     },
     "execution_count": 3,
     "metadata": {},
     "output_type": "execute_result"
    }
   ],
   "source": [
    "occupied"
   ]
  },
  {
   "cell_type": "code",
   "execution_count": 11,
   "metadata": {
    "collapsed": false
   },
   "outputs": [
    {
     "data": {
      "text/plain": [
       "7×7 Array{Int64,2}:\n",
       " 0  1  1  0  0  0  2\n",
       " 3  0  0  0  0  4  0\n",
       " 0  5  5  0  6  0  7\n",
       " 0  5  5  5  0  0  0\n",
       " 8  0  5  0  0  9  9\n",
       " 0  9  0  0  9  9  9\n",
       " 9  9  9  9  9  9  0"
      ]
     },
     "execution_count": 11,
     "metadata": {},
     "output_type": "execute_result"
    }
   ],
   "source": [
    "rec"
   ]
  },
  {
   "cell_type": "code",
   "execution_count": 12,
   "metadata": {
    "collapsed": false
   },
   "outputs": [
    {
     "data": {
      "text/plain": [
       "7×7 Array{Int64,2}:\n",
       " 0  1  1  0  0  0  2\n",
       " 3  0  0  0  0  4  0\n",
       " 0  5  5  0  6  0  7\n",
       " 0  5  5  5  0  0  0\n",
       " 8  0  5  0  0  9  9\n",
       " 0  9  0  0  9  9  9\n",
       " 9  9  9  9  9  9  0"
      ]
     },
     "execution_count": 12,
     "metadata": {},
     "output_type": "execute_result"
    }
   ],
   "source": [
    "pick"
   ]
  },
  {
   "cell_type": "code",
   "execution_count": 13,
   "metadata": {
    "collapsed": false
   },
   "outputs": [
    {
     "data": {
      "text/plain": [
       "7×7 Array{Int64,2}:\n",
       "  0   1   1   0   0   0  2\n",
       "  3   0   0   0   0   4  0\n",
       "  0   5   5   0   6   0  7\n",
       "  0   5   5   5   0   0  0\n",
       "  8   0   5   0   0   9  9\n",
       "  0  10   0   0  11   9  9\n",
       " 12  10  10  10  10  10  0"
      ]
     },
     "execution_count": 13,
     "metadata": {},
     "output_type": "execute_result"
    }
   ],
   "source": [
    "HKA"
   ]
  },
  {
   "cell_type": "code",
   "execution_count": 14,
   "metadata": {
    "collapsed": false
   },
   "outputs": [
    {
     "data": {
      "text/plain": [
       "7×7 Array{Int64,2}:\n",
       "  0   1   1   0   0   0   2\n",
       "  3   0   0   0   0   4   0\n",
       "  0   5   5   0   6   0   7\n",
       "  0   5   5   5   0   0   0\n",
       "  8   0   5   0   0  10  10\n",
       "  0  10   0   0  10  10  10\n",
       " 10  10  10  10  10  10   0"
      ]
     },
     "execution_count": 14,
     "metadata": {},
     "output_type": "execute_result"
    }
   ],
   "source": [
    "modHKA"
   ]
  },
  {
   "cell_type": "code",
   "execution_count": 15,
   "metadata": {
    "collapsed": false
   },
   "outputs": [
    {
     "data": {
      "text/plain": [
       "false"
      ]
     },
     "execution_count": 15,
     "metadata": {},
     "output_type": "execute_result"
    }
   ],
   "source": [
    "modHKA == rec"
   ]
  },
  {
   "cell_type": "code",
   "execution_count": 16,
   "metadata": {
    "collapsed": false
   },
   "outputs": [
    {
     "name": "stdout",
     "output_type": "stream",
     "text": [
      "[1,2,3,4,5,6,7,8,10,10,10,10,13,14,15,16,17,18,19,20,21,22,23,24,25,26,27,28,29,30,31,32,33,34,35,36,37,38,39,40,41,42,43,44,45,46,47,48,49]\n"
     ]
    }
   ],
   "source": [
    "println(label)"
   ]
  },
  {
   "cell_type": "markdown",
   "metadata": {},
   "source": [
    "# occupiedがrandom"
   ]
  },
  {
   "cell_type": "code",
   "execution_count": null,
   "metadata": {
    "collapsed": false
   },
   "outputs": [],
   "source": [
    "N = 10000\n",
    "occupied = (rand(N, N) .< 0.5) * 1\n",
    "HKA = occupied[:,:]; rec = occupied[:,:]\n",
    "@time max, label = HK(HKA)\n",
    "modHKA = HKA[:,:]\n",
    "@time recursive(rec)\n",
    "@time for i in 0:length(label)-1\n",
    "   x = length(label)-i\n",
    "   while (label[x] != x)\n",
    "       x = label[x]\n",
    "   end\n",
    "   \n",
    "   label[length(label)-i] = x\n",
    "end\n",
    "\n",
    "@time for i in 1:length(modHKA)\n",
    "   if modHKA[i] != 0\n",
    "       modHKA[i] = label[modHKA[i]]\n",
    "   end\n",
    "end\n",
    "rec .-= 100\n",
    "rec[rec .== -100] .= 0;"
   ]
  },
  {
   "cell_type": "code",
   "execution_count": null,
   "metadata": {
    "collapsed": false
   },
   "outputs": [],
   "source": [
    "occupied"
   ]
  },
  {
   "cell_type": "code",
   "execution_count": null,
   "metadata": {
    "collapsed": false
   },
   "outputs": [],
   "source": [
    "HKA"
   ]
  },
  {
   "cell_type": "code",
   "execution_count": null,
   "metadata": {
    "collapsed": false
   },
   "outputs": [],
   "source": [
    "modHKA"
   ]
  },
  {
   "cell_type": "code",
   "execution_count": null,
   "metadata": {
    "collapsed": false
   },
   "outputs": [],
   "source": [
    "HKA == modHKA"
   ]
  },
  {
   "cell_type": "code",
   "execution_count": null,
   "metadata": {
    "collapsed": false
   },
   "outputs": [],
   "source": [
    "rec"
   ]
  },
  {
   "cell_type": "code",
   "execution_count": null,
   "metadata": {
    "collapsed": false
   },
   "outputs": [],
   "source": [
    "modHKA == rec"
   ]
  },
  {
   "cell_type": "markdown",
   "metadata": {
    "collapsed": true
   },
   "source": [
    "# conventional algorithm"
   ]
  },
  {
   "cell_type": "code",
   "execution_count": 60,
   "metadata": {
    "collapsed": false
   },
   "outputs": [
    {
     "data": {
      "text/plain": [
       "7×7 Array{Int64,2}:\n",
       " 1  1  0  1  0  1  1\n",
       " 0  0  1  0  1  1  1\n",
       " 1  0  0  1  1  0  0\n",
       " 0  1  1  1  0  1  1\n",
       " 0  0  0  0  0  1  0\n",
       " 0  1  1  1  1  1  0\n",
       " 0  0  1  1  1  0  0"
      ]
     },
     "execution_count": 60,
     "metadata": {},
     "output_type": "execute_result"
    }
   ],
   "source": [
    "N = 7; srand(2); a = (rand(N,N) .< 0.5) * 1"
   ]
  },
  {
   "cell_type": "code",
   "execution_count": 61,
   "metadata": {
    "collapsed": false
   },
   "outputs": [
    {
     "name": "stderr",
     "output_type": "stream",
     "text": [
      "WARNING: Method definition convscanfw(Any, Any, Any, Any) in module Main at In[54]:2 overwritten at In[61]:2.\n"
     ]
    },
    {
     "data": {
      "text/plain": [
       "convscanfw (generic function with 1 method)"
      ]
     },
     "execution_count": 61,
     "metadata": {},
     "output_type": "execute_result"
    }
   ],
   "source": [
    "function convscanfw(i,j,a,curlab)\n",
    "    _N = size(a)[1]\n",
    "    if 1 < j; left = a[i,j-1];else; left = 0; end\n",
    "    if 1 < i; above = a[i-1,j]; else; above = 0; end\n",
    "    \n",
    "    min = minimum([left, above])\n",
    "    if left != 0 && above != 0\n",
    "        a[i,j] = min\n",
    "    elseif left!= 0 && above == 0\n",
    "            a[i,j] = left\n",
    "    elseif above != 0 && left == 0\n",
    "        a[i,j] = above\n",
    "    else\n",
    "        curlab += 1\n",
    "        a[i,j] = curlab\n",
    "    end\n",
    "    \n",
    "    return curlab\n",
    "end"
   ]
  },
  {
   "cell_type": "code",
   "execution_count": 62,
   "metadata": {
    "collapsed": true
   },
   "outputs": [],
   "source": [
    "curlab = 0\n",
    "for i in 1:N, j in 1:N\n",
    "    if a[i,j] != 0\n",
    "        curlab = convscanfw(i,j,a,curlab)\n",
    "    end\n",
    "end"
   ]
  },
  {
   "cell_type": "code",
   "execution_count": 63,
   "metadata": {
    "collapsed": false
   },
   "outputs": [
    {
     "data": {
      "text/plain": [
       "7×7 Array{Int64,2}:\n",
       " 1   1   0   2   0  3  3\n",
       " 0   0   4   0   5  3  3\n",
       " 6   0   0   7   5  0  0\n",
       " 0   8   8   7   0  9  9\n",
       " 0   0   0   0   0  9  0\n",
       " 0  10  10  10  10  9  0\n",
       " 0   0  10  10  10  0  0"
      ]
     },
     "execution_count": 63,
     "metadata": {},
     "output_type": "execute_result"
    }
   ],
   "source": [
    "a"
   ]
  },
  {
   "cell_type": "code",
   "execution_count": 64,
   "metadata": {
    "collapsed": false
   },
   "outputs": [
    {
     "name": "stderr",
     "output_type": "stream",
     "text": [
      "WARNING: Method definition convscanbw(Any, Any, Any) in module Main at In[57]:2 overwritten at In[64]:2.\n"
     ]
    },
    {
     "data": {
      "text/plain": [
       "convscanbw (generic function with 2 methods)"
      ]
     },
     "execution_count": 64,
     "metadata": {},
     "output_type": "execute_result"
    }
   ],
   "source": [
    "function convscanbw(i,j,a)\n",
    "    _N = size(a)[1]\n",
    "    if j < _N; right = a[i,j+1]; else; right = 0; end\n",
    "    if i < _N; below = a[i+1,j]; else; below = 0; end\n",
    "    \n",
    "    min = minimum([below, right])\n",
    "    if right != 0 && below != 0\n",
    "        a[i,j] = min\n",
    "    elseif right != 0 && below == 0\n",
    "        a[i,j] = right\n",
    "    elseif below != 0 && right == 0\n",
    "        a[i,j] = below\n",
    "    else\n",
    "        \n",
    "    end\n",
    "\n",
    "end"
   ]
  },
  {
   "cell_type": "code",
   "execution_count": 65,
   "metadata": {
    "collapsed": false
   },
   "outputs": [],
   "source": [
    "for i in 0:N-1, j in 0:N-1\n",
    "    if a[N-i,N-j] != 0\n",
    "        curlab = convscanbw(N-i,N-j,a)\n",
    "    end\n",
    "end"
   ]
  },
  {
   "cell_type": "code",
   "execution_count": 66,
   "metadata": {
    "collapsed": false
   },
   "outputs": [
    {
     "data": {
      "text/plain": [
       "7×7 Array{Int64,2}:\n",
       " 1  1   0   2   0  3  3\n",
       " 0  0   4   0   3  3  3\n",
       " 6  0   0   5   5  0  0\n",
       " 0  7   7   7   0  9  9\n",
       " 0  0   0   0   0  9  0\n",
       " 0  9   9   9   9  9  0\n",
       " 0  0  10  10  10  0  0"
      ]
     },
     "execution_count": 66,
     "metadata": {},
     "output_type": "execute_result"
    }
   ],
   "source": [
    "a"
   ]
  },
  {
   "cell_type": "code",
   "execution_count": 67,
   "metadata": {
    "collapsed": false
   },
   "outputs": [
    {
     "data": {
      "text/plain": [
       "convscanfw2 (generic function with 1 method)"
      ]
     },
     "execution_count": 67,
     "metadata": {},
     "output_type": "execute_result"
    }
   ],
   "source": [
    "function convscanfw2(i,j,a)\n",
    "    _N = size(a)[1]\n",
    "    if 1 < j; left = a[i,j-1];else; left = 0; end\n",
    "    if 1 < i; above = a[i-1,j]; else; above = 0; end\n",
    "    \n",
    "    min = minimum([left, above])\n",
    "    if left != 0 && above != 0\n",
    "        a[i,j] = min\n",
    "    elseif left!= 0 && above == 0\n",
    "            a[i,j] = left\n",
    "    elseif above != 0 && left == 0\n",
    "        a[i,j] = above\n",
    "    else\n",
    "        \n",
    "    end\n",
    "end"
   ]
  },
  {
   "cell_type": "code",
   "execution_count": 68,
   "metadata": {
    "collapsed": true
   },
   "outputs": [],
   "source": [
    "for i in 1:N, j in 1:N\n",
    "    if a[i,j] != 0\n",
    "        convscanfw2(i,j,a)\n",
    "    end\n",
    "end"
   ]
  },
  {
   "cell_type": "code",
   "execution_count": 69,
   "metadata": {
    "collapsed": false
   },
   "outputs": [
    {
     "data": {
      "text/plain": [
       "7×7 Array{Int64,2}:\n",
       " 1  1  0  2  0  3  3\n",
       " 0  0  4  0  3  3  3\n",
       " 6  0  0  5  3  0  0\n",
       " 0  7  7  5  0  9  9\n",
       " 0  0  0  0  0  9  0\n",
       " 0  9  9  9  9  9  0\n",
       " 0  0  9  9  9  0  0"
      ]
     },
     "execution_count": 69,
     "metadata": {},
     "output_type": "execute_result"
    }
   ],
   "source": [
    "a"
   ]
  },
  {
   "cell_type": "code",
   "execution_count": 70,
   "metadata": {
    "collapsed": true
   },
   "outputs": [],
   "source": [
    "for i in 0:N-1, j in 0:N-1\n",
    "    if a[N-i,N-j] != 0\n",
    "        curlab = convscanbw(N-i,N-j,a)\n",
    "    end\n",
    "end"
   ]
  },
  {
   "cell_type": "code",
   "execution_count": 71,
   "metadata": {
    "collapsed": false
   },
   "outputs": [
    {
     "data": {
      "text/plain": [
       "7×7 Array{Int64,2}:\n",
       " 1  1  0  2  0  3  3\n",
       " 0  0  4  0  3  3  3\n",
       " 6  0  0  3  3  0  0\n",
       " 0  5  5  5  0  9  9\n",
       " 0  0  0  0  0  9  0\n",
       " 0  9  9  9  9  9  0\n",
       " 0  0  9  9  9  0  0"
      ]
     },
     "execution_count": 71,
     "metadata": {},
     "output_type": "execute_result"
    }
   ],
   "source": [
    "a"
   ]
  },
  {
   "cell_type": "code",
   "execution_count": 72,
   "metadata": {
    "collapsed": true
   },
   "outputs": [],
   "source": [
    "for i in 1:N, j in 1:N\n",
    "    if a[i,j] != 0\n",
    "        convscanfw2(i,j,a)\n",
    "    end\n",
    "end"
   ]
  },
  {
   "cell_type": "code",
   "execution_count": 73,
   "metadata": {
    "collapsed": false
   },
   "outputs": [
    {
     "data": {
      "text/plain": [
       "7×7 Array{Int64,2}:\n",
       " 1  1  0  2  0  3  3\n",
       " 0  0  4  0  3  3  3\n",
       " 6  0  0  3  3  0  0\n",
       " 0  5  5  3  0  9  9\n",
       " 0  0  0  0  0  9  0\n",
       " 0  9  9  9  9  9  0\n",
       " 0  0  9  9  9  0  0"
      ]
     },
     "execution_count": 73,
     "metadata": {},
     "output_type": "execute_result"
    }
   ],
   "source": [
    "a"
   ]
  },
  {
   "cell_type": "code",
   "execution_count": 74,
   "metadata": {
    "collapsed": true
   },
   "outputs": [],
   "source": [
    "for i in 0:N-1, j in 0:N-1\n",
    "    if a[N-i,N-j] != 0\n",
    "        curlab = convscanbw(N-i,N-j,a)\n",
    "    end\n",
    "end"
   ]
  },
  {
   "cell_type": "code",
   "execution_count": 75,
   "metadata": {
    "collapsed": false
   },
   "outputs": [
    {
     "data": {
      "text/plain": [
       "7×7 Array{Int64,2}:\n",
       " 1  1  0  2  0  3  3\n",
       " 0  0  4  0  3  3  3\n",
       " 6  0  0  3  3  0  0\n",
       " 0  3  3  3  0  9  9\n",
       " 0  0  0  0  0  9  0\n",
       " 0  9  9  9  9  9  0\n",
       " 0  0  9  9  9  0  0"
      ]
     },
     "execution_count": 75,
     "metadata": {},
     "output_type": "execute_result"
    }
   ],
   "source": [
    "a"
   ]
  },
  {
   "cell_type": "code",
   "execution_count": null,
   "metadata": {
    "collapsed": true
   },
   "outputs": [],
   "source": []
  }
 ],
 "metadata": {
  "kernelspec": {
   "display_name": "Julia 0.5.0",
   "language": "julia",
   "name": "julia-0.5"
  },
  "language_info": {
   "file_extension": ".jl",
   "mimetype": "application/julia",
   "name": "julia",
   "version": "0.5.0"
  }
 },
 "nbformat": 4,
 "nbformat_minor": 1
}
